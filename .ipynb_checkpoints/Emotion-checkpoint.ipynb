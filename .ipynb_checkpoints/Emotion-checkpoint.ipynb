{
 "cells": [
  {
   "cell_type": "code",
   "execution_count": 153,
   "metadata": {},
   "outputs": [],
   "source": [
    "#Install all the Reqiuired Libraries and Packages \n",
    "import os\n",
    "import glob\n",
    "from tqdm import tqdm\n",
    "import pandas as pd\n",
    "import numpy as np\n",
    "import matplotlib.pyplot as plt\n",
    "from scipy.io import wavfile\n",
    "from python_speech_features import mfcc , logfbank\n",
    "import librosa as lr\n",
    "import os, glob, pickle\n",
    "import librosa\n",
    "from scipy import signal\n",
    "import noisereduce as nr\n",
    "from glob import glob\n",
    "import librosa\n",
    "get_ipython().magic('matplotlib inline')\n",
    "#All the Required Packages and Libraies are installed.\n",
    "import soundfile\n",
    "from tensorflow.keras.layers import Conv2D,MaxPool2D, Flatten, LSTM\n",
    "from keras.layers import Dropout,Dense,TimeDistributed\n",
    "from keras.models import Sequential\n",
    "from keras.utils import to_categorical \n",
    "from sklearn.utils.class_weight import compute_class_weight\n",
    "from sklearn.model_selection import train_test_split\n",
    "from sklearn.neural_network import MLPClassifier\n",
    "from sklearn.metrics import accuracy_score"
   ]
  },
  {
   "cell_type": "code",
   "execution_count": 154,
   "metadata": {},
   "outputs": [
    {
     "data": {
      "text/plain": [
       "1440"
      ]
     },
     "execution_count": 154,
     "metadata": {},
     "output_type": "execute_result"
    }
   ],
   "source": [
    "#Loading the required RAVDESS DataSet with length of 1440 Audio Files \n",
    "os.listdir(path='.\\RavdessData')\n",
    "def getListOfFiles(dirName):\n",
    "    listOfFile=os.listdir(dirName)\n",
    "    allFiles=list()\n",
    "    for entry in listOfFile:\n",
    "        fullPath=os.path.join(dirName, entry)\n",
    "        if os.path.isdir(fullPath):\n",
    "            allFiles=allFiles + getListOfFiles(fullPath)\n",
    "        else:\n",
    "            allFiles.append(fullPath)\n",
    "    return allFiles\n",
    "\n",
    "dirName = './RavdessData'\n",
    "listOfFiles = getListOfFiles(dirName)\n",
    "len(listOfFiles)"
   ]
  },
  {
   "cell_type": "code",
   "execution_count": 155,
   "metadata": {},
   "outputs": [],
   "source": [
    "#Now Cleaning Step is Performed where:\n",
    "#DOWN SAMPLING OF AUDIO FILES IS DONE  AND PUT MASK OVER IT AND DIRECT INTO CLEAN FOLDER\n",
    "#MASK IS TO REMOVE UNNECESSARY EMPTY VOIVES AROUND THE MAIN AUDIO VOICE \n",
    "def envelope(y , rate, threshold):\n",
    "    mask=[]\n",
    "    y=pd.Series(y).apply(np.abs)\n",
    "    y_mean = y.rolling(window=int(rate/10) ,  min_periods=1 , center = True).mean()\n",
    "    for mean in y_mean:\n",
    "        if mean>threshold:\n",
    "            mask.append(True)\n",
    "        else:\n",
    "            mask.append(False)\n",
    "    return mask\n"
   ]
  },
  {
   "cell_type": "code",
   "execution_count": 156,
   "metadata": {},
   "outputs": [],
   "source": [
    "#Next Step is In-Depth Visualisation of Audio Fiels and its certain features to plot for.\n",
    "#They are the Plotting Functions to be called later. \n",
    "def plot_signals(signals):\n",
    "    fig , axes = plt.subplots(nrows=2, ncols=5,sharex =False , sharey=True, figsize=(20,5))\n",
    "    fig.suptitle('Time Series' , size=16)\n",
    "    i=0\n",
    "    for x in range(2):\n",
    "        for y in range(5):\n",
    "            axes[x,y].set_title(list(signals.keys())[i])\n",
    "            axes[x,y].plot(list(signals.values())[i])\n",
    "            axes[x,y].get_xaxis().set_visible(False)\n",
    "            axes[x,y].get_yaxis().set_visible(False)\n",
    "            i +=1\n",
    "\n",
    "def plot_fft(fft):\n",
    "    fig , axes = plt.subplots(nrows=2, ncols=5,sharex =False , sharey=True, figsize=(20,5))\n",
    "    fig.suptitle('Fourier Transform' , size=16)\n",
    "    i=0\n",
    "    for x in range(2):\n",
    "        for y in range(5):\n",
    "            data = list(fft.values())[i]\n",
    "            Y,freq = data[0] , data[1]\n",
    "            axes[x,y].set_title(list(fft.keys())[i])\n",
    "            axes[x,y].plot(freq , Y)\n",
    "            axes[x,y].get_xaxis().set_visible(False)\n",
    "            axes[x,y].get_yaxis().set_visible(False)\n",
    "            i +=1\n",
    "    \n",
    "def plot_fbank(fbank):\n",
    "    fig , axes = plt.subplots(nrows=2, ncols=5,sharex =False , sharey=True, figsize=(20,5))\n",
    "    fig.suptitle('Filter Bank Coefficients' , size=16)\n",
    "    i=0\n",
    "    for x in range(2):\n",
    "        for y in range(5):\n",
    "            axes[x,y].set_title(list(fbank.keys())[i])\n",
    "            axes[x,y].imshow(list(fbank.values())[i],cmap='hot', interpolation = 'nearest')\n",
    "            axes[x,y].get_xaxis().set_visible(False)\n",
    "            axes[x,y].get_yaxis().set_visible(False)\n",
    "            i +=1\n",
    "            \n",
    "def plot_mfccs(mfccs):\n",
    "    fig , axes = plt.subplots(nrows=2, ncols=5,sharex =False , sharey=True, figsize=(20,5))\n",
    "    fig.suptitle('Mel Frequency Capstrum  Coefficients' , size=16)\n",
    "    i=0\n",
    "    for x in range(2):\n",
    "        for y in range(5):\n",
    "            axes[x,y].set_title(list(mfccs.keys())[i])\n",
    "            axes[x,y].imshow(list(mfccs.values())[i],\n",
    "                             cmap='hot', interpolation = 'nearest')\n",
    "            axes[x,y].get_xaxis().set_visible(False)\n",
    "            axes[x,y].get_yaxis().set_visible(False)\n",
    "            i +=1\n",
    "\n",
    "def calc_fft(y,rate):\n",
    "    n = len(y)\n",
    "    freq = np.fft.rfftfreq(n , d= 1/rate)\n",
    "    Y= abs(np.fft.rfft(y)/n)\n",
    "    return(Y,freq)"
   ]
  },
  {
   "cell_type": "code",
   "execution_count": 157,
   "metadata": {},
   "outputs": [],
   "source": []
  },
  {
   "cell_type": "code",
   "execution_count": 8,
   "metadata": {},
   "outputs": [
    {
     "name": "stderr",
     "output_type": "stream",
     "text": [
      "100%|██████████| 1440/1440 [06:16<00:00,  3.83it/s]\n"
     ]
    }
   ],
   "source": [
    "#The clean Audio Files are redirected to Clean Audio Folder Directory \n",
    "import glob,pickle\n",
    "for file in tqdm(glob.glob(r'C:\\Users\\hp\\Desktop\\PythonDS\\SDL-Project\\RavdessData\\\\**\\\\*.wav')):\n",
    "    file_name = os.path.basename(file)\n",
    "    signal , rate = librosa.load(file, sr=16000)\n",
    "    mask = envelope(signal,rate, 0.0005)\n",
    "    wavfile.write(filename= r'C:\\Users\\hp\\Desktop\\PythonDS\\SDL-Project\\clean_speech\\\\'+str(file_name), rate=rate,data=signal[mask])"
   ]
  },
  {
   "cell_type": "code",
   "execution_count": 108,
   "metadata": {},
   "outputs": [],
   "source": [
    "#Extract features (mfcc, chroma, mel) from a sound file\n",
    "def extract_feature(file_name, mfcc, chroma, mel):\n",
    "    with soundfile.SoundFile(file_name) as sound_file:\n",
    "        X = sound_file.read(dtype=\"float32\")\n",
    "        sample_rate=sound_file.samplerate\n",
    "        #X, sample_rate = librosa.load(file_name)\n",
    "        #X.shape\n",
    "        if chroma:\n",
    "            stft=np.abs(librosa.stft(X))\n",
    "        result=np.array([])\n",
    "        if mfcc:\n",
    "            mfccs=np.mean(librosa.feature.mfcc(y=X, sr=sample_rate, n_mfcc=40).T, axis=0)\n",
    "        result=np.hstack((result, mfccs))\n",
    "        if chroma:\n",
    "            chroma=np.mean(librosa.feature.chroma_stft(S=stft, sr=sample_rate).T,axis=0)\n",
    "        result=np.hstack((result, chroma))\n",
    "        if mel:\n",
    "            mel=np.mean(librosa.feature.melspectrogram(X, sr=sample_rate).T,axis=0)\n",
    "        result=np.hstack((result, mel))\n",
    "    return result"
   ]
  },
  {
   "cell_type": "code",
   "execution_count": 109,
   "metadata": {},
   "outputs": [],
   "source": [
    "#Emotions in the RAVDESS dataset to be classified Audio Files based on . \n",
    "emotions={\n",
    "  '01':'neutral',\n",
    "  '02':'calm',\n",
    "  '03':'happy',\n",
    "  '04':'sad',\n",
    "  '05':'angry',\n",
    "  '06':'fearful',\n",
    "  '07':'disgust',\n",
    "  '08':'surprised'\n",
    "}\n",
    "#These are the emotions User wants to observe more :\n",
    "observed_emotions=['calm', 'happy', 'fearful', 'disgust']"
   ]
  },
  {
   "cell_type": "code",
   "execution_count": 139,
   "metadata": {},
   "outputs": [],
   "source": [
    "#Load the data and extract features for each sound file\n",
    "from glob import glob\n",
    "import os\n",
    "import glob\n",
    "def load_data(test_size=0.33):\n",
    "    x,y=[],[]\n",
    "    answer = 0\n",
    "    \n",
    "    for file in glob.glob(r'C:\\Users\\hp\\Desktop\\PythonDS\\SDL-Project\\clean_speech\\\\*.wav'):\n",
    "        file_name=os.path.basename(file)\n",
    "        emotion=emotions[file_name.split(\"-\")[2]]\n",
    "        observed_emotions=['calm', 'happy', 'fearful', 'disgust']\n",
    "        if emotion not in observed_emotions:\n",
    "            answer += 1\n",
    "            continue\n",
    "        feature=extract_feature(file, mfcc=True, chroma=True, mel=True)\n",
    "        x.append(feature)\n",
    "        y.append([emotion,file_name])\n",
    "    return train_test_split(np.array(x), y, test_size=test_size, random_state=9)"
   ]
  },
  {
   "cell_type": "code",
   "execution_count": 140,
   "metadata": {},
   "outputs": [
    {
     "name": "stdout",
     "output_type": "stream",
     "text": [
      "(576, 180) (192, 180) (576, 2) (192, 2)\n",
      "(576,) (192,)\n",
      "03-01-06-01-02-02-01.wav\n",
      "03-01-03-01-02-01-21.wav\n",
      "03-01-07-01-02-02-04.wav\n",
      "03-01-02-02-01-02-24.wav\n",
      "03-01-07-01-02-02-19.wav\n",
      "03-01-06-01-01-01-07.wav\n",
      "03-01-07-01-01-01-16.wav\n",
      "03-01-02-01-02-02-06.wav\n",
      "03-01-06-01-01-02-07.wav\n",
      "03-01-06-02-01-01-15.wav\n",
      "03-01-02-02-02-02-07.wav\n",
      "03-01-06-01-02-02-19.wav\n",
      "03-01-06-02-02-02-05.wav\n",
      "03-01-06-01-01-01-14.wav\n",
      "03-01-06-01-02-01-15.wav\n",
      "03-01-03-02-02-01-06.wav\n",
      "03-01-02-01-01-02-16.wav\n",
      "03-01-07-01-01-01-13.wav\n",
      "03-01-03-02-02-02-24.wav\n",
      "03-01-02-01-02-02-19.wav\n",
      "03-01-02-02-01-02-09.wav\n",
      "03-01-02-01-01-02-07.wav\n",
      "03-01-03-01-02-01-13.wav\n",
      "03-01-02-01-02-01-18.wav\n",
      "03-01-02-02-02-02-03.wav\n",
      "03-01-02-02-01-01-11.wav\n",
      "03-01-03-01-02-02-20.wav\n",
      "03-01-03-02-01-02-06.wav\n",
      "03-01-06-01-01-02-11.wav\n",
      "03-01-03-01-02-01-18.wav\n",
      "03-01-06-01-01-01-15.wav\n",
      "03-01-07-02-01-02-08.wav\n",
      "03-01-07-02-01-02-23.wav\n",
      "03-01-03-01-02-02-10.wav\n",
      "03-01-06-01-01-01-23.wav\n",
      "03-01-07-02-02-01-18.wav\n",
      "03-01-06-02-02-01-22.wav\n",
      "03-01-07-02-01-01-21.wav\n",
      "03-01-07-01-01-02-10.wav\n",
      "03-01-06-02-01-01-01.wav\n",
      "03-01-07-02-01-02-17.wav\n",
      "03-01-02-02-02-02-17.wav\n",
      "03-01-03-01-01-01-04.wav\n",
      "03-01-06-02-02-01-24.wav\n",
      "03-01-06-02-02-01-10.wav\n",
      "03-01-02-02-01-02-12.wav\n",
      "03-01-06-02-01-02-01.wav\n",
      "03-01-07-01-01-01-10.wav\n",
      "03-01-02-02-01-01-02.wav\n",
      "03-01-02-01-01-02-24.wav\n",
      "03-01-06-02-02-02-14.wav\n",
      "03-01-03-02-02-02-14.wav\n",
      "03-01-03-01-01-01-20.wav\n",
      "03-01-02-02-02-01-05.wav\n",
      "03-01-07-01-01-02-17.wav\n",
      "03-01-07-02-01-01-20.wav\n",
      "03-01-03-02-02-02-20.wav\n",
      "03-01-02-01-01-02-17.wav\n",
      "03-01-03-01-01-02-13.wav\n",
      "03-01-02-01-01-02-14.wav\n",
      "03-01-02-02-02-01-16.wav\n",
      "03-01-03-02-01-02-10.wav\n",
      "03-01-07-02-01-02-03.wav\n",
      "03-01-06-01-02-01-19.wav\n",
      "03-01-02-02-02-02-22.wav\n",
      "03-01-06-02-01-02-11.wav\n",
      "03-01-02-01-01-01-04.wav\n",
      "03-01-03-02-02-01-14.wav\n",
      "03-01-06-01-01-02-02.wav\n",
      "03-01-06-01-01-02-17.wav\n",
      "03-01-07-02-02-01-04.wav\n",
      "03-01-02-01-02-01-07.wav\n",
      "03-01-02-01-02-02-16.wav\n",
      "03-01-02-02-01-01-21.wav\n",
      "03-01-07-02-02-02-15.wav\n",
      "03-01-02-01-02-01-13.wav\n",
      "03-01-03-01-01-01-22.wav\n",
      "03-01-07-02-01-01-10.wav\n",
      "03-01-03-01-02-01-20.wav\n",
      "03-01-07-01-02-02-15.wav\n",
      "03-01-03-01-02-02-17.wav\n",
      "03-01-03-01-02-01-17.wav\n",
      "03-01-06-02-01-01-10.wav\n",
      "03-01-06-02-02-01-17.wav\n",
      "03-01-07-02-02-02-20.wav\n",
      "03-01-02-01-02-02-09.wav\n",
      "03-01-06-01-01-02-15.wav\n",
      "03-01-07-02-01-02-20.wav\n",
      "03-01-07-01-01-02-06.wav\n",
      "03-01-06-02-02-02-11.wav\n",
      "03-01-02-01-02-01-15.wav\n",
      "03-01-03-02-02-02-17.wav\n",
      "03-01-03-01-01-01-01.wav\n",
      "03-01-03-02-01-01-21.wav\n",
      "03-01-02-01-02-02-18.wav\n",
      "03-01-02-02-02-02-14.wav\n",
      "03-01-03-01-01-01-03.wav\n",
      "03-01-07-02-02-01-17.wav\n",
      "03-01-07-02-01-02-13.wav\n",
      "03-01-03-01-02-02-18.wav\n",
      "03-01-07-01-02-01-05.wav\n",
      "03-01-07-02-02-01-10.wav\n",
      "03-01-02-01-01-02-04.wav\n",
      "03-01-06-02-01-01-19.wav\n",
      "03-01-02-02-02-01-09.wav\n",
      "03-01-07-02-02-01-24.wav\n",
      "03-01-02-01-02-02-20.wav\n",
      "03-01-02-01-01-01-11.wav\n",
      "03-01-02-02-02-02-11.wav\n",
      "03-01-02-01-01-02-22.wav\n",
      "03-01-06-01-02-02-03.wav\n",
      "03-01-07-02-01-02-12.wav\n",
      "03-01-03-02-01-01-02.wav\n",
      "03-01-02-02-02-02-09.wav\n",
      "03-01-07-02-02-02-11.wav\n",
      "03-01-02-02-01-02-11.wav\n",
      "03-01-02-02-01-02-13.wav\n",
      "03-01-02-01-01-02-21.wav\n",
      "03-01-02-01-02-01-23.wav\n",
      "03-01-03-02-01-01-24.wav\n",
      "03-01-03-02-01-01-01.wav\n",
      "03-01-03-02-01-02-18.wav\n",
      "03-01-02-01-02-01-21.wav\n",
      "03-01-02-01-01-02-18.wav\n",
      "03-01-02-01-02-01-08.wav\n",
      "03-01-02-02-01-01-04.wav\n",
      "03-01-06-02-02-02-17.wav\n",
      "03-01-02-01-01-01-17.wav\n",
      "03-01-07-01-02-01-20.wav\n",
      "03-01-06-01-02-01-18.wav\n",
      "03-01-06-02-02-01-08.wav\n",
      "03-01-03-01-01-02-18.wav\n",
      "03-01-06-01-02-02-07.wav\n",
      "03-01-07-01-02-02-18.wav\n",
      "03-01-03-01-02-01-16.wav\n",
      "03-01-07-01-01-02-23.wav\n",
      "03-01-07-01-01-01-20.wav\n",
      "03-01-02-01-01-01-07.wav\n",
      "03-01-07-02-02-01-16.wav\n",
      "03-01-03-02-01-02-05.wav\n",
      "03-01-03-02-01-02-11.wav\n",
      "03-01-07-01-02-01-04.wav\n",
      "03-01-07-02-01-02-04.wav\n",
      "03-01-02-02-01-02-05.wav\n",
      "03-01-06-01-02-02-06.wav\n",
      "03-01-03-02-02-01-08.wav\n",
      "03-01-06-02-02-02-09.wav\n",
      "03-01-06-02-02-02-21.wav\n",
      "03-01-07-01-01-02-20.wav\n",
      "03-01-07-01-01-01-08.wav\n",
      "03-01-07-01-01-01-11.wav\n",
      "03-01-06-01-02-02-23.wav\n",
      "03-01-07-01-02-02-08.wav\n",
      "03-01-02-01-01-02-09.wav\n",
      "03-01-06-01-02-02-21.wav\n",
      "03-01-06-01-02-01-17.wav\n",
      "03-01-06-02-01-02-15.wav\n",
      "03-01-03-01-01-02-06.wav\n",
      "03-01-06-01-02-01-22.wav\n",
      "03-01-03-01-02-01-19.wav\n",
      "03-01-02-01-02-02-23.wav\n",
      "03-01-02-01-02-01-24.wav\n",
      "03-01-06-02-02-02-03.wav\n",
      "03-01-02-01-01-01-05.wav\n",
      "03-01-02-01-01-01-03.wav\n",
      "03-01-06-01-02-02-09.wav\n",
      "03-01-03-01-02-02-08.wav\n",
      "03-01-03-02-02-02-06.wav\n",
      "03-01-06-02-02-01-21.wav\n",
      "03-01-03-01-02-02-04.wav\n",
      "03-01-06-02-02-02-08.wav\n",
      "03-01-06-02-01-02-18.wav\n",
      "03-01-07-02-01-02-07.wav\n",
      "03-01-06-01-02-01-11.wav\n",
      "03-01-02-01-02-02-01.wav\n",
      "03-01-02-02-01-01-17.wav\n",
      "03-01-06-01-01-01-01.wav\n",
      "03-01-07-01-02-01-07.wav\n",
      "03-01-03-01-01-01-09.wav\n",
      "03-01-06-01-01-01-11.wav\n",
      "03-01-06-02-01-02-08.wav\n",
      "03-01-06-02-01-02-24.wav\n",
      "03-01-03-01-01-01-06.wav\n",
      "03-01-06-02-02-01-19.wav\n",
      "03-01-06-02-01-01-02.wav\n",
      "03-01-06-02-02-02-07.wav\n",
      "03-01-07-02-02-02-07.wav\n",
      "03-01-07-01-02-02-14.wav\n",
      "03-01-03-02-02-02-02.wav\n",
      "03-01-06-02-01-01-14.wav\n",
      "03-01-07-01-01-02-02.wav\n",
      "03-01-02-02-02-01-22.wav\n"
     ]
    }
   ],
   "source": [
    "#Split the dataset\n",
    "import librosa\n",
    "import numpy as np\n",
    "x_train,x_test,y_trai,y_tes=load_data(test_size=0.25)\n",
    "print(np.shape(x_train),np.shape(x_test), np.shape(y_trai),np.shape(y_tes))\n",
    "y_test_map = np.array(y_tes).T\n",
    "y_test = y_test_map[0]\n",
    "test_filename = y_test_map[1]\n",
    "y_train_map = np.array(y_trai).T\n",
    "y_train = y_train_map[0]\n",
    "train_filename = y_train_map[1]\n",
    "print(np.shape(y_train),np.shape(y_test))\n",
    "print(*test_filename,sep=\"\\n\")"
   ]
  },
  {
   "cell_type": "code",
   "execution_count": 141,
   "metadata": {},
   "outputs": [
    {
     "name": "stdout",
     "output_type": "stream",
     "text": [
      "(array([-4.72749390e+02,  6.49757385e+01,  5.17765760e+00,  2.39336910e+01,\n",
      "       -1.97806282e+01, -7.22249269e+00, -9.19029522e+00, -1.67042160e+00,\n",
      "       -5.45781183e+00,  1.04979973e+01, -2.58633566e+00, -2.91311383e+00,\n",
      "       -2.07376552e+00,  2.74362230e+00, -8.71890736e+00,  1.00746489e+00,\n",
      "       -7.18502760e+00,  1.04929256e+00, -8.01348209e+00, -4.33015490e+00,\n",
      "       -6.27855349e+00, -2.67354846e-01, -6.45068264e+00,  3.70039612e-01,\n",
      "       -1.03536682e+01,  6.57365799e+00, -3.53413033e+00,  2.11778450e+00,\n",
      "       -3.70431209e+00, -5.08869767e-01, -1.10575855e+00,  1.38015926e+00,\n",
      "       -6.54354620e+00, -3.14862251e+00, -9.13768959e+00, -2.58719277e+00,\n",
      "       -1.91618812e+00, -6.19192779e-01, -6.12873554e+00, -3.78236532e+00,\n",
      "        6.54815197e-01,  6.24088526e-01,  6.59823954e-01,  6.87617898e-01,\n",
      "        7.23537326e-01,  7.72205412e-01,  7.48895228e-01,  6.65303469e-01,\n",
      "        7.11956799e-01,  7.27323472e-01,  6.52188420e-01,  6.45889938e-01,\n",
      "        3.17498692e-04,  5.51773664e-05,  1.99259445e-03,  9.57875978e-03,\n",
      "        7.13787973e-03,  4.44729067e-02,  1.68096758e-02,  3.15177627e-03,\n",
      "        2.77602277e-03,  5.31984633e-03,  1.32861612e-02,  4.13126871e-02,\n",
      "        4.05906253e-02,  1.79273356e-03,  9.18350066e-04,  1.57249544e-03,\n",
      "        5.50676696e-03,  4.93660979e-02,  2.16445833e-01,  2.64580604e-02,\n",
      "        3.09962314e-03,  2.18423572e-03,  6.18215138e-03,  1.01064136e-02,\n",
      "        5.25146164e-03,  5.79664158e-03,  6.42144727e-03,  8.36486463e-03,\n",
      "        1.72078032e-02,  1.46543067e-02,  5.15559223e-03,  6.16121106e-03,\n",
      "        6.71841856e-03,  6.76485291e-03,  1.39079513e-02,  1.92539971e-02,\n",
      "        4.97368630e-03,  2.63052736e-03,  4.88518504e-03,  5.90484962e-03,\n",
      "        8.26406851e-03,  1.07925525e-02,  3.09408153e-03,  2.65135197e-03,\n",
      "        9.97791183e-04,  4.15317103e-04,  1.14810144e-04,  2.43221759e-04,\n",
      "        5.03683230e-04,  4.27665771e-04,  3.24235327e-04,  2.28771081e-04,\n",
      "        4.53014545e-05,  1.02017271e-04,  9.10703093e-05,  9.63070052e-05,\n",
      "        2.05278615e-04,  4.02179139e-04,  8.08724144e-04,  3.80906626e-04,\n",
      "        1.60203621e-04,  2.84374575e-04,  8.87950766e-04,  3.92600865e-04,\n",
      "        1.59406831e-04,  1.94113201e-03,  2.94207386e-03,  2.15094828e-04,\n",
      "        4.04224778e-03,  1.14872120e-02,  8.71947675e-04,  2.19240948e-03,\n",
      "        2.45924876e-03,  4.72107233e-04,  1.50728074e-03,  2.54792185e-03,\n",
      "        4.80460178e-04,  2.92189675e-03,  2.63998937e-03,  1.17311359e-03,\n",
      "        1.22293842e-03,  6.53646945e-04,  1.15093787e-03,  7.48536375e-04,\n",
      "        5.85628441e-04,  7.87545869e-04,  4.64605197e-04,  3.78301367e-04,\n",
      "        3.10992094e-04,  6.27752801e-04,  4.32359986e-04,  6.96463569e-04,\n",
      "        6.53928204e-04,  9.18493664e-04,  1.87918107e-04,  1.99130445e-04,\n",
      "        1.76776186e-04,  1.97033150e-04,  2.00306051e-04,  6.86816929e-04,\n",
      "        1.26412988e-03,  1.40623364e-03,  6.65081257e-04,  4.04500373e-04,\n",
      "        2.59260181e-04,  3.40593833e-04,  2.76379084e-04,  2.10846469e-04,\n",
      "        3.32596042e-04,  5.17757901e-04,  6.32180425e-04,  1.79981906e-03,\n",
      "        1.20780198e-03,  4.99493151e-04,  3.37673730e-04,  2.90384371e-04,\n",
      "        1.76270565e-04,  1.50847918e-04,  1.05877007e-04,  1.35478404e-04,\n",
      "        1.42967881e-04,  1.91228901e-04,  1.29137261e-04,  1.02207443e-04,\n",
      "        1.09992834e-04,  2.79916203e-05,  7.04610238e-06,  6.00321812e-07]), array([-4.05837250e+02,  8.57629929e+01, -1.27275257e+01,  3.05787773e+01,\n",
      "       -4.39626074e+00, -2.81509995e+00, -2.05859947e+01, -2.36301632e+01,\n",
      "       -1.39047775e+01, -2.64138246e+00, -8.15937901e+00, -8.80693018e-01,\n",
      "       -1.38338089e+01,  2.54732394e+00, -8.74653816e+00, -6.71805811e+00,\n",
      "       -9.89338493e+00,  6.05391693e+00, -1.66343212e+01, -1.42065275e+00,\n",
      "       -8.15297985e+00, -7.56464481e+00, -4.93946457e+00, -7.30918837e+00,\n",
      "       -9.23105621e+00, -2.72830939e+00, -8.33001709e+00, -1.41911530e+00,\n",
      "       -6.54307508e+00, -4.81731272e+00, -9.23130512e+00, -5.94936275e+00,\n",
      "       -5.58641052e+00, -1.81408679e+00, -9.79552364e+00, -4.70537329e+00,\n",
      "       -1.11295853e+01, -1.39044297e+00, -4.81943607e+00, -2.04781651e+00,\n",
      "        7.08430588e-01,  6.45110011e-01,  6.18052602e-01,  6.05098367e-01,\n",
      "        5.40784776e-01,  4.96822983e-01,  5.77846587e-01,  6.85813904e-01,\n",
      "        5.95459104e-01,  5.21303058e-01,  5.39793909e-01,  6.31203473e-01,\n",
      "        2.14793559e-04,  9.51122420e-05,  5.17873326e-04,  1.15132099e-02,\n",
      "        2.83216745e-01,  3.13635349e-01,  4.49047685e-02,  2.89521040e-03,\n",
      "        8.59414134e-03,  1.09483533e-01,  4.57316399e-01,  1.35137290e-01,\n",
      "        7.98068792e-02,  1.97366197e-02,  5.19081019e-02,  2.73155123e-01,\n",
      "        2.30974123e-01,  9.03628916e-02,  1.34060457e-01,  1.56970054e-01,\n",
      "        2.72719622e-01,  2.56014854e-01,  4.30087820e-02,  5.72835049e-03,\n",
      "        2.96170376e-02,  1.18673816e-01,  1.10493742e-01,  3.71269956e-02,\n",
      "        3.87810916e-03,  5.21534029e-03,  6.08510105e-03,  8.01942684e-03,\n",
      "        8.33226554e-03,  2.19020923e-03,  7.17312680e-04,  7.69093516e-04,\n",
      "        2.21197307e-03,  1.86190882e-03,  2.04226025e-03,  1.71740365e-03,\n",
      "        3.81200970e-03,  4.67637042e-03,  2.39367923e-03,  2.01297621e-03,\n",
      "        3.19091394e-03,  3.37045314e-03,  1.44916698e-02,  2.97736134e-02,\n",
      "        2.90706269e-02,  1.04312254e-02,  4.41440986e-03,  2.96420930e-03,\n",
      "        3.03023891e-03,  8.18805117e-03,  1.33112175e-02,  1.04792314e-02,\n",
      "        4.93972749e-03,  4.21181181e-03,  5.75791579e-03,  1.03706997e-02,\n",
      "        7.63482321e-03,  4.13447339e-03,  6.51403517e-03,  1.50098223e-02,\n",
      "        3.90513940e-03,  1.15515606e-03,  1.26589194e-03,  8.84964422e-04,\n",
      "        7.90306774e-04,  1.08440442e-03,  8.77198705e-04,  6.13016484e-04,\n",
      "        9.45499516e-04,  1.10359315e-03,  2.15252978e-03,  3.33045796e-03,\n",
      "        3.39418487e-03,  2.48779124e-03,  2.12096749e-03,  1.86938036e-03,\n",
      "        1.01942418e-03,  1.21617340e-03,  5.11382066e-04,  2.79253029e-04,\n",
      "        2.95172358e-04,  2.48051219e-04,  2.90812954e-04,  3.93039081e-04,\n",
      "        5.32678561e-04,  1.22510712e-03,  1.95346470e-03,  2.73303641e-03,\n",
      "        3.04747908e-03,  1.53045903e-03,  1.44395209e-03,  1.67956948e-03,\n",
      "        8.90502415e-04,  4.44983860e-04,  1.74821907e-04,  1.88556718e-04,\n",
      "        6.17864600e-04,  5.86317969e-04,  8.49506992e-04,  8.87877250e-04,\n",
      "        1.17825379e-03,  1.70782499e-03,  1.38084427e-03,  1.99219072e-03,\n",
      "        1.37946545e-03,  1.03039830e-03,  7.45891652e-04,  4.88725200e-04,\n",
      "        5.44731796e-04,  4.54555586e-04,  4.63479199e-04,  4.35042748e-04,\n",
      "        3.24216031e-04,  2.63297814e-04,  1.55238464e-04,  1.25890729e-04,\n",
      "        1.22685466e-04,  1.24952101e-04,  9.08837901e-05,  8.95811681e-05,\n",
      "        2.01131814e-04,  1.82571268e-04,  4.11067922e-05,  2.69036900e-06]))\n",
      "Features extracted: 180\n"
     ]
    }
   ],
   "source": [
    "#Get the shape of the training and testing datasets\n",
    "# print((x_train.shape[0], x_test.shape[0]))\n",
    "print((x_train[0], x_test[0]))\n",
    "#Get the number of features extracted\n",
    "print(f'Features extracted: {x_train.shape[1]}')"
   ]
  },
  {
   "cell_type": "code",
   "execution_count": 142,
   "metadata": {},
   "outputs": [],
   "source": [
    "# Initialize the Multi Layer Perceptron Classifier\n",
    "model=MLPClassifier(alpha=0.01, batch_size=256, epsilon=1e-08, hidden_layer_sizes=(300,), learning_rate='adaptive', max_iter=500)"
   ]
  },
  {
   "cell_type": "code",
   "execution_count": 143,
   "metadata": {},
   "outputs": [
    {
     "data": {
      "text/plain": [
       "MLPClassifier(activation='relu', alpha=0.01, batch_size=256, beta_1=0.9,\n",
       "              beta_2=0.999, early_stopping=False, epsilon=1e-08,\n",
       "              hidden_layer_sizes=(300,), learning_rate='adaptive',\n",
       "              learning_rate_init=0.001, max_iter=500, momentum=0.9,\n",
       "              n_iter_no_change=10, nesterovs_momentum=True, power_t=0.5,\n",
       "              random_state=None, shuffle=True, solver='adam', tol=0.0001,\n",
       "              validation_fraction=0.1, verbose=False, warm_start=False)"
      ]
     },
     "execution_count": 143,
     "metadata": {},
     "output_type": "execute_result"
    }
   ],
   "source": [
    "#Train the model\n",
    "model.fit(x_train,y_train)"
   ]
  },
  {
   "cell_type": "code",
   "execution_count": 144,
   "metadata": {},
   "outputs": [],
   "source": [
    "#SAVING THE MODEL\n",
    "import pickle\n",
    "# Save the Modle to file in the current working directory\n",
    "#For any new testing data other than the data in dataset\n",
    "\n",
    "Pkl_Filename = \"Emotion_Voice_Detection_Model.pkl\"  \n",
    "\n",
    "with open(Pkl_Filename, 'wb') as file:  \n",
    "    pickle.dump(model, file)"
   ]
  },
  {
   "cell_type": "code",
   "execution_count": 145,
   "metadata": {},
   "outputs": [
    {
     "data": {
      "text/plain": [
       "MLPClassifier(activation='relu', alpha=0.01, batch_size=256, beta_1=0.9,\n",
       "              beta_2=0.999, early_stopping=False, epsilon=1e-08,\n",
       "              hidden_layer_sizes=(300,), learning_rate='adaptive',\n",
       "              learning_rate_init=0.001, max_iter=500, momentum=0.9,\n",
       "              n_iter_no_change=10, nesterovs_momentum=True, power_t=0.5,\n",
       "              random_state=None, shuffle=True, solver='adam', tol=0.0001,\n",
       "              validation_fraction=0.1, verbose=False, warm_start=False)"
      ]
     },
     "execution_count": 145,
     "metadata": {},
     "output_type": "execute_result"
    }
   ],
   "source": [
    "# Load the Model back from file\n",
    "with open(Pkl_Filename, 'rb') as file:  \n",
    "    Emotion_Voice_Detection_Model = pickle.load(file)\n",
    "\n",
    "Emotion_Voice_Detection_Model"
   ]
  },
  {
   "cell_type": "code",
   "execution_count": 96,
   "metadata": {},
   "outputs": [
    {
     "data": {
      "text/plain": [
       "array(['disgust', 'happy', 'happy', 'calm', 'disgust', 'calm', 'disgust',\n",
       "       'calm', 'happy', 'fearful', 'calm', 'fearful', 'happy', 'fearful',\n",
       "       'fearful', 'happy', 'disgust', 'disgust', 'fearful', 'calm',\n",
       "       'calm', 'calm', 'happy', 'calm', 'calm', 'calm', 'fearful',\n",
       "       'happy', 'disgust', 'calm', 'calm', 'disgust', 'disgust', 'happy',\n",
       "       'disgust', 'disgust', 'fearful', 'disgust', 'disgust', 'fearful',\n",
       "       'disgust', 'calm', 'happy', 'fearful', 'fearful', 'calm',\n",
       "       'fearful', 'happy', 'calm', 'calm', 'happy', 'happy', 'happy',\n",
       "       'calm', 'disgust', 'disgust', 'disgust', 'disgust', 'happy',\n",
       "       'calm', 'disgust', 'happy', 'disgust', 'fearful', 'disgust',\n",
       "       'happy', 'calm', 'happy', 'fearful', 'fearful', 'fearful', 'calm',\n",
       "       'calm', 'calm', 'happy', 'calm', 'disgust', 'happy', 'happy',\n",
       "       'disgust', 'fearful', 'happy', 'fearful', 'happy', 'disgust',\n",
       "       'fearful', 'happy', 'fearful', 'calm', 'fearful', 'calm', 'happy',\n",
       "       'happy', 'happy', 'calm', 'calm', 'happy', 'disgust', 'disgust',\n",
       "       'fearful', 'disgust', 'fearful', 'happy', 'fearful', 'calm',\n",
       "       'disgust', 'calm', 'calm', 'calm', 'calm', 'fearful', 'happy',\n",
       "       'happy', 'calm', 'disgust', 'calm', 'happy', 'calm', 'calm',\n",
       "       'happy', 'happy', 'fearful', 'calm', 'calm', 'calm', 'calm',\n",
       "       'fearful', 'disgust', 'calm', 'calm', 'fearful', 'happy', 'calm',\n",
       "       'disgust', 'happy', 'disgust', 'disgust', 'calm', 'disgust',\n",
       "       'happy', 'disgust', 'disgust', 'disgust', 'calm', 'fearful',\n",
       "       'happy', 'fearful', 'fearful', 'disgust', 'disgust', 'disgust',\n",
       "       'fearful', 'calm', 'calm', 'disgust', 'fearful', 'fearful',\n",
       "       'happy', 'happy', 'happy', 'calm', 'calm', 'fearful', 'calm',\n",
       "       'calm', 'fearful', 'happy', 'happy', 'fearful', 'happy', 'fearful',\n",
       "       'fearful', 'disgust', 'happy', 'calm', 'calm', 'happy', 'calm',\n",
       "       'calm', 'disgust', 'fearful', 'fearful', 'happy', 'fearful',\n",
       "       'fearful', 'fearful', 'disgust', 'disgust', 'happy', 'fearful',\n",
       "       'disgust', 'disgust'], dtype='<U7')"
      ]
     },
     "execution_count": 96,
     "metadata": {},
     "output_type": "execute_result"
    }
   ],
   "source": [
    "#predicting :\n",
    "y_pred=Emotion_Voice_Detection_Model.predict(x_test)\n",
    "y_pred"
   ]
  },
  {
   "cell_type": "code",
   "execution_count": 146,
   "metadata": {},
   "outputs": [
    {
     "name": "stdout",
     "output_type": "stream",
     "text": [
      "    predictions                file_names\n",
      "0       disgust  03-01-06-01-02-02-01.wav\n",
      "1         happy  03-01-03-01-02-01-21.wav\n",
      "2         happy  03-01-07-01-02-02-04.wav\n",
      "3          calm  03-01-02-02-01-02-24.wav\n",
      "4       disgust  03-01-07-01-02-02-19.wav\n",
      "..          ...                       ...\n",
      "187     disgust  03-01-07-01-02-02-14.wav\n",
      "188       happy  03-01-03-02-02-02-02.wav\n",
      "189     fearful  03-01-06-02-01-01-14.wav\n",
      "190     disgust  03-01-07-01-01-02-02.wav\n",
      "191     disgust  03-01-02-02-02-01-22.wav\n",
      "\n",
      "[192 rows x 2 columns]\n"
     ]
    }
   ],
   "source": [
    "#Store the Prediction probabilities into CSV file \n",
    "import numpy as np\n",
    "import pandas as pd\n",
    "y_pred1 = pd.DataFrame(y_pred, columns=['predictions'])\n",
    "y_pred1['file_names'] = test_filename\n",
    "print(y_pred1)\n",
    "y_pred1.to_csv('predictionfinal.csv')"
   ]
  },
  {
   "cell_type": "code",
   "execution_count": 192,
   "metadata": {},
   "outputs": [
    {
     "name": "stdout",
     "output_type": "stream",
     "text": [
      "* recording\n",
      "* done recording\n"
     ]
    }
   ],
   "source": [
    "#RECORDED USING MICROPHONE:\n",
    "import pyaudio\n",
    "import wave\n",
    "\n",
    "CHUNK = 1024 \n",
    "FORMAT = pyaudio.paInt16 #paInt8\n",
    "CHANNELS = 1\n",
    "RATE = 44100 #sample rate\n",
    "RECORD_SECONDS = 4\n",
    "WAVE_OUTPUT_FILENAME = \"output10.wav\"\n",
    "\n",
    "p = pyaudio.PyAudio()\n",
    "\n",
    "stream = p.open(format=FORMAT,\n",
    "                channels=CHANNELS,\n",
    "                rate=RATE,\n",
    "                input=True,\n",
    "                frames_per_buffer=CHUNK) #buffer\n",
    "\n",
    "print(\"* recording\")\n",
    "frames = []\n",
    "\n",
    "for i in range(0, int(RATE / CHUNK * RECORD_SECONDS)):\n",
    "    data = stream.read(CHUNK)\n",
    "    frames.append(data) # 2 bytes(16 bits) per channel\n",
    "\n",
    "print(\"* done recording\")\n",
    "\n",
    "stream.stop_stream()\n",
    "stream.close()\n",
    "p.terminate()\n",
    "\n",
    "wf = wave.open(WAVE_OUTPUT_FILENAME, 'wb')\n",
    "wf.setnchannels(CHANNELS)\n",
    "wf.setsampwidth(p.get_sample_size(FORMAT))\n",
    "wf.setframerate(RATE)\n",
    "wf.writeframes(b''.join(frames))\n",
    "wf.close()"
   ]
  },
  {
   "cell_type": "code",
   "execution_count": 193,
   "metadata": {},
   "outputs": [
    {
     "data": {
      "text/plain": [
       "<matplotlib.collections.PolyCollection at 0x20db6172bc8>"
      ]
     },
     "execution_count": 193,
     "metadata": {},
     "output_type": "execute_result"
    },
    {
     "data": {
      "image/png": "[encoded data removed]",
      "text/plain": [
       "<Figure size 1080x360 with 1 Axes>"
      ]
     },
     "metadata": {
      "needs_background": "light"
     },
     "output_type": "display_data"
    }
   ],
   "source": [
    "#The file 'output10.wav' in the next cell is the file that was recorded live using the code :\n",
    "data, sampling_rate = librosa.load('output10.wav')\n",
    "%matplotlib inline\n",
    "import os\n",
    "import pandas as pd\n",
    "import librosa.display\n",
    "import glob \n",
    "\n",
    "plt.figure(figsize=(15, 5))\n",
    "librosa.display.waveplot(data, sr=sampling_rate)"
   ]
  },
  {
   "cell_type": "code",
   "execution_count": 194,
   "metadata": {},
   "outputs": [
    {
     "data": {
      "text/plain": [
       "array(['calm'], dtype='<U7')"
      ]
     },
     "execution_count": 194,
     "metadata": {},
     "output_type": "execute_result"
    }
   ],
   "source": [
    "## Appying extract_feature function on random file and then loading model to predict the result \n",
    "file = './output10.wav'\n",
    "# data , sr = librosa.load(file)\n",
    "# data = np.array(data)\n",
    "ans =[]\n",
    "new_feature = extract_feature(file, mfcc=True, chroma=True, mel=True)\n",
    "ans.append(new_feature)\n",
    "ans = np.array(ans)\n",
    "# data.shape\n",
    "\n",
    "Emotion_Voice_Detection_Model.predict(ans)"
   ]
  },
  {
   "cell_type": "code",
   "execution_count": 197,
   "metadata": {},
   "outputs": [
    {
     "name": "stdout",
     "output_type": "stream",
     "text": [
      "Accuracy: 80.21%\n"
     ]
    }
   ],
   "source": [
    "y_pred=model.predict(x_test)\n",
    "accuracy=accuracy_score(y_true=y_test, y_pred=y_pred)\n",
    "\n",
    "# - Print the accuracy\n",
    "print(\"Accuracy: {:.2f}%\".format(accuracy*100))"
   ]
  },
  {
   "cell_type": "code",
   "execution_count": null,
   "metadata": {},
   "outputs": [],
   "source": []
  }
 ],
 "metadata": {
  "kernelspec": {
   "display_name": "Python 3",
   "language": "python",
   "name": "python3"
  },
  "language_info": {
   "codemirror_mode": {
    "name": "ipython",
    "version": 3
   },
   "file_extension": ".py",
   "mimetype": "text/x-python",
   "name": "python",
   "nbconvert_exporter": "python",
   "pygments_lexer": "ipython3",
   "version": "3.8.3"
  }
 },
 "nbformat": 4,
 "nbformat_minor": 2
}
