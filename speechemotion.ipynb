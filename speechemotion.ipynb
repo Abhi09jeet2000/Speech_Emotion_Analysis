{
 "cells": [
  {
   "cell_type": "code",
   "execution_count": 20,
   "metadata": {},
   "outputs": [
    {
     "name": "stderr",
     "output_type": "stream",
     "text": [
      "C:\\Users\\hp\\Anaconda3\\lib\\site-packages\\tqdm\\autonotebook.py:17: TqdmExperimentalWarning: Using `tqdm.autonotebook.tqdm` in notebook mode. Use `tqdm.tqdm` instead to force console mode (e.g. in jupyter console)\n",
      "  \" (e.g. in jupyter console)\", TqdmExperimentalWarning)\n"
     ]
    }
   ],
   "source": [
    "import os\n",
    "import glob\n",
    "from tqdm import tqdm\n",
    "import pandas as pd\n",
    "import numpy as np\n",
    "import matplotlib.pyplot as plt\n",
    "from scipy.io import wavfile\n",
    "from python_speech_features import mfcc,logfbank\n",
    "import librosa as lr\n",
    "import os,glob,pickle\n",
    "import librosa\n",
    "from scipy import signal\n",
    "import noisereduce as nr\n",
    "from glob import glob\n",
    "get_ipython().magic('matplotlib inline')\n",
    "import soundfile"
   ]
  },
  {
   "cell_type": "code",
   "execution_count": 2,
   "metadata": {},
   "outputs": [],
   "source": [
    "import speech_recognition as sr"
   ]
  },
  {
   "cell_type": "code",
   "execution_count": 3,
   "metadata": {},
   "outputs": [],
   "source": [
    "def recognize_speech_from_mic(recognizer,microphone):\n",
    "    if not isinstance(recognizer,sr.Recognizer):\n",
    "        raise TypeError(\"'recognizer' must be 'Recognizer' instance\")\n",
    "    if not isinstance(microphone,sr.Microphone):\n",
    "        raise TypeError(\"'microphone' must be 'Microphone' instance\")\n",
    "        \n",
    "    with microphone as source:\n",
    "        recognizer.adjust_for_ambient_noise(source)\n",
    "        audio = recognizer.listen(source)\n",
    "        \n",
    "    response = {\n",
    "        \"success\": True,\n",
    "        \"error\": None,\n",
    "        \"transcription\": None\n",
    "    }\n",
    "    \n",
    "    try:\n",
    "        response[\"transcription\"] = recognizer.recognize_google(audio)\n",
    "    except sr.RequestError:\n",
    "        response[\"success\"]= False\n",
    "        response[\"error\"] = \"API unavailable/unresponsive\"\n",
    "    except sr.UnknownValueError:\n",
    "        response[\"error\"] = \"Unable to recognize speech\"\n",
    "\n",
    "    return response"
   ]
  },
  {
   "cell_type": "raw",
   "metadata": {},
   "source": []
  },
  {
   "cell_type": "code",
   "execution_count": 4,
   "metadata": {},
   "outputs": [],
   "source": [
    "recognizer = sr.Recognizer()"
   ]
  },
  {
   "cell_type": "code",
   "execution_count": 5,
   "metadata": {},
   "outputs": [],
   "source": [
    "mic = sr.Microphone(device_index=1)"
   ]
  },
  {
   "cell_type": "code",
   "execution_count": 6,
   "metadata": {},
   "outputs": [],
   "source": [
    "response = recognize_speech_from_mic(recognizer, mic)"
   ]
  },
  {
   "cell_type": "code",
   "execution_count": 7,
   "metadata": {},
   "outputs": [
    {
     "name": "stdout",
     "output_type": "stream",
     "text": [
      "\n",
      "Success : True\n",
      "Error :Unable to recognize speech\n",
      "\n",
      "Text from Speech\n",
      "-----------------\n",
      "\n",
      "None\n"
     ]
    }
   ],
   "source": [
    "print('\\nSuccess : {}\\nError :{}\\n\\nText from Speech\\n{}\\n\\n{}'\\\n",
    "     .format(response['success'],\n",
    "            response['error'],\n",
    "            '-'*17,\n",
    "            response['transcription']))"
   ]
  },
  {
   "cell_type": "code",
   "execution_count": 14,
   "metadata": {},
   "outputs": [
    {
     "name": "stdout",
     "output_type": "stream",
     "text": [
      "Speak it out\n",
      "Listening...\n",
      "You said : idiot\n",
      "Speak it out\n",
      "Listening...\n",
      "You said : you are bad\n",
      "Speak it out\n",
      "Listening...\n",
      "You said : sometimes your good\n",
      "Speak it out\n",
      "Listening...\n",
      "You said : ok bye\n",
      "Speak it out\n",
      "Listening...\n",
      "You said : bye\n",
      "Thanks for your suggetions\n",
      "Your sentences : ['idiot', 'you are bad', 'sometimes your good', 'ok bye']\n"
     ]
    }
   ],
   "source": [
    "temp_str = ''\n",
    "records_all = []\n",
    "while(temp_str != 'bye'):\n",
    "    print(\"Speak it out\")\n",
    "    print(\"Listening...\")\n",
    "    response = recognize_speech_from_mic(recognizer,mic)\n",
    "    if response['success']:\n",
    "        temp_str = response['transcription']\n",
    "        print(\"You said :\",temp_str)\n",
    "        if (temp_str != 'bye'):\n",
    "            records_all.append(temp_str)\n",
    "print(\"Thanks for your suggetions\")\n",
    "print(f\"Your sentences : {records_all}\")\n"
   ]
  },
  {
   "cell_type": "code",
   "execution_count": 15,
   "metadata": {},
   "outputs": [],
   "source": [
    "if records_all == None:\n",
    "    records_all.remove(None)\n",
    "else:\n",
    "    pass"
   ]
  },
  {
   "cell_type": "code",
   "execution_count": 16,
   "metadata": {},
   "outputs": [],
   "source": [
    "from textblob import TextBlob"
   ]
  },
  {
   "cell_type": "code",
   "execution_count": 17,
   "metadata": {},
   "outputs": [],
   "source": [
    "def get_sentiment(sentx):\n",
    "    analysis = TextBlob(sentx)\n",
    "    if analysis.sentiment.polarity > 0:\n",
    "        return ('positive')\n",
    "    elif analysis.sentiment.polarity == 0:\n",
    "        return ('neutral') \n",
    "    else:\n",
    "        return ('negative')"
   ]
  },
  {
   "cell_type": "code",
   "execution_count": 18,
   "metadata": {},
   "outputs": [
    {
     "name": "stdout",
     "output_type": "stream",
     "text": [
      "negative ====> idiot\n",
      "#######################################\n",
      "negative ====> you are bad\n",
      "#######################################\n",
      "positive ====> sometimes your good\n",
      "#######################################\n",
      "positive ====> ok bye\n",
      "#######################################\n",
      "{'neutral': 0, 'positive': 2, 'negative': 2}\n"
     ]
    }
   ],
   "source": [
    "sentiments_total = {'neutral':0,'positive':0,'negative':0}\n",
    "for recd_sent in records_all:\n",
    "    sentiment = get_sentiment(recd_sent)\n",
    "    print(sentiment,'====>',recd_sent)\n",
    "    sentiments_total[sentiment]=sentiments_total[sentiment] + 1\n",
    "    print(\"#######################################\")\n",
    "print(sentiments_total)"
   ]
  },
  {
   "cell_type": "code",
   "execution_count": 19,
   "metadata": {},
   "outputs": [
    {
     "data": {
      "image/png": "[encoded data removed]",
      "text/plain": [
       "<Figure size 432x288 with 1 Axes>"
      ]
     },
     "metadata": {},
     "output_type": "display_data"
    }
   ],
   "source": [
    "from matplotlib import pyplot as plt\n",
    "slices = [sentiments_total['neutral'],sentiments_total['positive'],sentiments_total['negative']]\n",
    "activities = ['Neutral','Positive','Negative']\n",
    "cols = ['c','m','r']\n",
    "\n",
    "plt.pie(slices,\n",
    "       labels = activities,\n",
    "       colors = cols,\n",
    "       shadow = True,\n",
    "       autopct='%1.1f%%')\n",
    "\n",
    "plt.title(\"Sentiment Analysis of Speech\")\n",
    "plt.legend()\n",
    "plt.show()"
   ]
  },
  {
   "cell_type": "code",
   "execution_count": null,
   "metadata": {},
   "outputs": [],
   "source": []
  }
 ],
 "metadata": {
  "kernelspec": {
   "display_name": "Python 3",
   "language": "python",
   "name": "python3"
  },
  "language_info": {
   "codemirror_mode": {
    "name": "ipython",
    "version": 3
   },
   "file_extension": ".py",
   "mimetype": "text/x-python",
   "name": "python",
   "nbconvert_exporter": "python",
   "pygments_lexer": "ipython3",
   "version": "3.7.4"
  }
 },
 "nbformat": 4,
 "nbformat_minor": 2
}
